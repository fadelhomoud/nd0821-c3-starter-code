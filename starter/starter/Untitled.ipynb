{
 "cells": [
  {
   "cell_type": "code",
   "execution_count": 5,
   "id": "43c8057a-50c5-418f-93cc-8215cc69c5c7",
   "metadata": {},
   "outputs": [
    {
     "ename": "ModuleNotFoundError",
     "evalue": "No module named 'ml'",
     "output_type": "error",
     "traceback": [
      "\u001b[0;31m---------------------------------------------------------------------------\u001b[0m",
      "\u001b[0;31mModuleNotFoundError\u001b[0m                       Traceback (most recent call last)",
      "Input \u001b[0;32mIn [5]\u001b[0m, in \u001b[0;36m<cell line: 10>\u001b[0;34m()\u001b[0m\n\u001b[1;32m      6\u001b[0m \u001b[38;5;28;01mimport\u001b[39;00m \u001b[38;5;21;01mos\u001b[39;00m\n\u001b[1;32m      8\u001b[0m \u001b[38;5;28;01mimport\u001b[39;00m \u001b[38;5;21;01mpandas\u001b[39;00m \u001b[38;5;28;01mas\u001b[39;00m \u001b[38;5;21;01mpd\u001b[39;00m\n\u001b[0;32m---> 10\u001b[0m \u001b[38;5;28;01mfrom\u001b[39;00m \u001b[38;5;21;01mml\u001b[39;00m\u001b[38;5;21;01m.\u001b[39;00m\u001b[38;5;21;01mmodel\u001b[39;00m \u001b[38;5;28;01mimport\u001b[39;00m compute_model_metrics, inference\n\u001b[1;32m     11\u001b[0m \u001b[38;5;28;01mfrom\u001b[39;00m \u001b[38;5;21;01mml\u001b[39;00m\u001b[38;5;21;01m.\u001b[39;00m\u001b[38;5;21;01mdata\u001b[39;00m \u001b[38;5;28;01mimport\u001b[39;00m process_data\n\u001b[1;32m     12\u001b[0m \u001b[38;5;28;01mfrom\u001b[39;00m \u001b[38;5;21;01mtrain_model\u001b[39;00m \u001b[38;5;28;01mimport\u001b[39;00m cat_features\n",
      "\u001b[0;31mModuleNotFoundError\u001b[0m: No module named 'ml'"
     ]
    }
   ],
   "source": [
    "\"\"\"\n",
    "Code for checking model performance on different slices\n",
    "\"\"\"\n",
    "\n",
    "import pickle\n",
    "import os\n",
    "\n",
    "import pandas as pd\n",
    "\n",
    "from ml.model import compute_model_metrics, inference\n",
    "from ml.data import process_data\n",
    "from train_model import cat_features\n",
    "\n",
    "\n",
    "def check_slices_performance(data, model_path):\n",
    "\n",
    "    # Loading model and encoders:\n",
    "    with open(os.path.join(model_path, \"inference_model.pkl\"), \"rb\") as file:\n",
    "        model = pickle.load(file)\n",
    "\n",
    "    with open(os.path.join(model_path, \"onehot_encoder.pkl\"), \"rb\") as file:\n",
    "        encoder = pickle.load(file)\n",
    "\n",
    "    with open(os.path.join(model_path, \"label_encoder.pkl\"), \"rb\") as file:\n",
    "        lb = pickle.load(file)\n",
    "\n",
    "\n",
    "    # Processing data:\n",
    "    X_val, y_val, encoder, lb = process_data(\n",
    "        data, categorical_features=cat_features, label=\"salary\",\n",
    "        training=False, encoder=encoder, lb=lb\n",
    "    )\n",
    "\n",
    "    # Measuring model performance:\n",
    "    predictions = inference(model, X_val)\n",
    "\n",
    "    data[\"pred\"] = predictions\n",
    "    data[\"label\"] = lb.transform(data[\"salary\"])\n",
    "\n",
    "    # Calculating slice results:\n",
    "    slice_results = pd.DataFrame()\n",
    "    for group in cat_features:\n",
    "\n",
    "        performance = data.groupby(group).apply(\n",
    "            lambda df: compute_model_metrics(df[\"label\"], df[\"pred\"], as_df=True)\n",
    "        )\n",
    "        performance = performance.droplevel(1)\n",
    "        performance.index.name = \"group_value\"\n",
    "        performance[\"group\"] = group\n",
    "        slice_results = slice_results.append(performance)\n",
    "\n",
    "    slice_results = slice_results.reset_index()\n",
    "    slice_results = slice_results[[\"group\",\"group_value\",\"precision\",\"recall\",\"fbeta\"]]\n",
    "\n",
    "    return slice_results\n",
    "\n",
    "\n",
    "if __name__==\"__main__\":\n",
    "\n",
    "    # Loading the data:\n",
    "    data = pd.read_csv(\"./starter/data/cleaned_census.csv\")\n",
    "    model_path = \"./starter/model\"\n",
    "\n",
    "    # Calculating slice performance:\n",
    "    output = check_slices_performance(data, model_path)\n",
    "\n",
    "    # Printing results to file:\n",
    "   # pd.set_option('display.max_rows', None)\n",
    "   # pd.set_option('display.max_rows', None)\n",
    "    #with open(\"slice_output.txt\",'w') as file:\n",
    "    #    print(output.to_string(), file=file)"
   ]
  },
  {
   "cell_type": "code",
   "execution_count": null,
   "id": "736c0517-0845-404a-b6e9-766b40a2dc72",
   "metadata": {},
   "outputs": [],
   "source": []
  }
 ],
 "metadata": {
  "kernelspec": {
   "display_name": "Python [conda env:root] *",
   "language": "python",
   "name": "conda-root-py"
  },
  "language_info": {
   "codemirror_mode": {
    "name": "ipython",
    "version": 3
   },
   "file_extension": ".py",
   "mimetype": "text/x-python",
   "name": "python",
   "nbconvert_exporter": "python",
   "pygments_lexer": "ipython3",
   "version": "3.8.12"
  }
 },
 "nbformat": 4,
 "nbformat_minor": 5
}
